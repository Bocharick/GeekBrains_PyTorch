{
 "cells": [
  {
   "cell_type": "markdown",
   "metadata": {},
   "source": [
    "#### 1) Добиться вразумительного результата от модели, собранной на занятии (3 угаданные картинки из 4 предложенных на семинаре). Варианты изменений:\n",
    "    - изменение слоёв и их количества;\n",
    "    - изменение метода оптимизации; \n",
    "    - изменение процесса обучения; \n",
    "    - для продвинутых: преобразование данных.\n",
    "#### 2) Взять часть, где мы делали один шаг обучения, и обернуть его в цикл по схеме, как обучали модель в конце занятия."
   ]
  },
  {
   "cell_type": "code",
   "execution_count": 1,
   "metadata": {},
   "outputs": [],
   "source": [
    "import torch\n",
    "import torchvision\n",
    "import torchvision.transforms as transforms\n",
    "import matplotlib.pyplot as plt\n",
    "import numpy as np\n",
    "import torch.nn as nn\n",
    "import torch.nn.functional as F\n",
    "import torch.optim as optim"
   ]
  },
  {
   "cell_type": "code",
   "execution_count": 2,
   "metadata": {},
   "outputs": [],
   "source": [
    "# device = torch.device(\"cuda:0\" if torch.cuda.is_available() else \"cpu\")\n",
    "device = \"cuda:0\"\n",
    "# device = \"cpu\""
   ]
  },
  {
   "cell_type": "code",
   "execution_count": 3,
   "metadata": {},
   "outputs": [],
   "source": [
    "transform = transforms.Compose(\n",
    "    [transforms.ToTensor(),\n",
    "     transforms.Normalize((0.5, 0.5, 0.5), (0.5, 0.5, 0.5))])"
   ]
  },
  {
   "cell_type": "code",
   "execution_count": 4,
   "metadata": {},
   "outputs": [
    {
     "name": "stdout",
     "output_type": "stream",
     "text": [
      "Files already downloaded and verified\n"
     ]
    }
   ],
   "source": [
    "trainset = torchvision.datasets.CIFAR10(root='./data', train=True,\n",
    "                                        download=True, transform=transform)\n",
    "trainloader = torch.utils.data.DataLoader(trainset, batch_size=1000,\n",
    "                                          shuffle=True, num_workers=12)"
   ]
  },
  {
   "cell_type": "code",
   "execution_count": 5,
   "metadata": {},
   "outputs": [
    {
     "name": "stdout",
     "output_type": "stream",
     "text": [
      "Files already downloaded and verified\n"
     ]
    }
   ],
   "source": [
    "testset = torchvision.datasets.CIFAR10(root='./data', train=False,\n",
    "                                       download=True, transform=transform)\n",
    "testloader = torch.utils.data.DataLoader(testset, batch_size=125,\n",
    "                                         shuffle=False, num_workers=12)"
   ]
  },
  {
   "cell_type": "code",
   "execution_count": 6,
   "metadata": {},
   "outputs": [],
   "source": [
    "classes = ('plane', 'car', 'bird', 'cat', 'deer', 'dog', 'frog', 'horse', 'ship', 'truck')"
   ]
  },
  {
   "cell_type": "code",
   "execution_count": 7,
   "metadata": {},
   "outputs": [],
   "source": [
    "def imshow(img):\n",
    "    img = img / 2 + 0.5     # unnormalize\n",
    "    npimg = img.numpy()\n",
    "    plt.imshow(np.transpose(npimg, (1, 2, 0)))\n",
    "    plt.show()"
   ]
  },
  {
   "cell_type": "code",
   "execution_count": 8,
   "metadata": {},
   "outputs": [],
   "source": [
    "# get some random training images\n",
    "dataiter = iter(trainloader)\n",
    "images, labels = dataiter.next()"
   ]
  },
  {
   "cell_type": "code",
   "execution_count": 9,
   "metadata": {},
   "outputs": [
    {
     "data": {
      "image/png": "[encoded data removed]",
      "text/plain": [
       "<Figure size 432x288 with 1 Axes>"
      ]
     },
     "metadata": {
      "needs_background": "light"
     },
     "output_type": "display_data"
    }
   ],
   "source": [
    "imshow(torchvision.utils.make_grid(images))"
   ]
  },
  {
   "cell_type": "code",
   "execution_count": 10,
   "metadata": {},
   "outputs": [],
   "source": [
    "class Net(nn.Module):\n",
    "    def __init__(self):\n",
    "        super(Net, self).__init__()\n",
    "        self.conv1 = nn.Conv2d(3, 60, 5)\n",
    "        self.pool = nn.MaxPool2d(2, 2)\n",
    "        self.conv2 = nn.Conv2d(60, 120, 3)\n",
    "        self.fc1 = nn.Linear(120 * 6 * 6, 2048)\n",
    "        self.fc2 = nn.Linear(2048, 1024)\n",
    "        self.fc3 = nn.Linear(1024, 512)\n",
    "        self.fc4 = nn.Linear(512, 128)\n",
    "        self.fc5 = nn.Linear(128, 10)\n",
    "\n",
    "    def forward(self, x):\n",
    "        x = self.pool(F.relu(self.conv1(x)))\n",
    "        x = self.pool(F.relu(self.conv2(x)))\n",
    "        # print(x.shape)\n",
    "        x = x.view(-1, 120 * 6 * 6)\n",
    "        x = F.relu(self.fc1(x))\n",
    "        x = F.relu(self.fc2(x))\n",
    "        x = F.relu(self.fc3(x))\n",
    "        x = F.relu(self.fc4(x))\n",
    "        x = self.fc5(x)\n",
    "        return x"
   ]
  },
  {
   "cell_type": "code",
   "execution_count": 11,
   "metadata": {},
   "outputs": [],
   "source": [
    "net = Net()\n",
    "if device == \"cuda:0\":\n",
    "    net.to(device)"
   ]
  },
  {
   "cell_type": "code",
   "execution_count": 12,
   "metadata": {},
   "outputs": [],
   "source": [
    "criterion = nn.CrossEntropyLoss()\n",
    "# optimizer = optim.SGD(net.parameters(), lr=0.001, momentum=0.9)\n",
    "optimizer = optim.Adam(net.parameters(), lr=0.0001)"
   ]
  },
  {
   "cell_type": "code",
   "execution_count": 13,
   "metadata": {},
   "outputs": [
    {
     "name": "stdout",
     "output_type": "stream",
     "text": [
      "[1,    50] loss: 2.104\n",
      "[2,    50] loss: 1.747\n",
      "[3,    50] loss: 1.616\n",
      "[4,    50] loss: 1.539\n",
      "[5,    50] loss: 1.469\n",
      "[6,    50] loss: 1.420\n",
      "[7,    50] loss: 1.365\n",
      "[8,    50] loss: 1.325\n",
      "[9,    50] loss: 1.289\n",
      "[10,    50] loss: 1.254\n",
      "[11,    50] loss: 1.215\n",
      "[12,    50] loss: 1.182\n",
      "[13,    50] loss: 1.163\n",
      "[14,    50] loss: 1.133\n",
      "[15,    50] loss: 1.107\n",
      "[16,    50] loss: 1.080\n",
      "[17,    50] loss: 1.059\n",
      "[18,    50] loss: 1.043\n",
      "[19,    50] loss: 1.016\n",
      "[20,    50] loss: 0.995\n",
      "[21,    50] loss: 0.970\n",
      "[22,    50] loss: 0.949\n",
      "[23,    50] loss: 0.939\n",
      "[24,    50] loss: 0.917\n",
      "[25,    50] loss: 0.892\n",
      "[26,    50] loss: 0.882\n",
      "[27,    50] loss: 0.869\n",
      "[28,    50] loss: 0.850\n",
      "[29,    50] loss: 0.829\n",
      "[30,    50] loss: 0.824\n",
      "[31,    50] loss: 0.796\n",
      "[32,    50] loss: 0.784\n",
      "[33,    50] loss: 0.767\n",
      "[34,    50] loss: 0.753\n",
      "[35,    50] loss: 0.735\n",
      "[36,    50] loss: 0.721\n",
      "[37,    50] loss: 0.701\n",
      "[38,    50] loss: 0.685\n",
      "[39,    50] loss: 0.667\n",
      "[40,    50] loss: 0.656\n",
      "[41,    50] loss: 0.626\n",
      "[42,    50] loss: 0.609\n",
      "[43,    50] loss: 0.593\n",
      "[44,    50] loss: 0.578\n",
      "[45,    50] loss: 0.558\n",
      "[46,    50] loss: 0.539\n",
      "[47,    50] loss: 0.523\n",
      "[48,    50] loss: 0.517\n",
      "[49,    50] loss: 0.478\n",
      "[50,    50] loss: 0.467\n",
      "[51,    50] loss: 0.475\n",
      "[52,    50] loss: 0.446\n",
      "[53,    50] loss: 0.417\n",
      "[54,    50] loss: 0.388\n",
      "[55,    50] loss: 0.375\n",
      "[56,    50] loss: 0.354\n",
      "[57,    50] loss: 0.339\n",
      "[58,    50] loss: 0.322\n",
      "[59,    50] loss: 0.300\n",
      "[60,    50] loss: 0.290\n",
      "[61,    50] loss: 0.266\n",
      "[62,    50] loss: 0.260\n",
      "[63,    50] loss: 0.239\n",
      "[64,    50] loss: 0.227\n",
      "[65,    50] loss: 0.210\n",
      "[66,    50] loss: 0.197\n",
      "[67,    50] loss: 0.204\n",
      "[68,    50] loss: 0.178\n",
      "[69,    50] loss: 0.144\n",
      "[70,    50] loss: 0.145\n",
      "[71,    50] loss: 0.136\n",
      "[72,    50] loss: 0.129\n",
      "[73,    50] loss: 0.117\n",
      "[74,    50] loss: 0.095\n",
      "[75,    50] loss: 0.085\n",
      "[76,    50] loss: 0.094\n",
      "[77,    50] loss: 0.070\n",
      "[78,    50] loss: 0.062\n",
      "[79,    50] loss: 0.060\n",
      "[80,    50] loss: 0.053\n",
      "[81,    50] loss: 0.053\n",
      "[82,    50] loss: 0.045\n",
      "[83,    50] loss: 0.037\n",
      "[84,    50] loss: 0.031\n",
      "[85,    50] loss: 0.030\n",
      "[86,    50] loss: 0.026\n",
      "[87,    50] loss: 0.022\n",
      "[88,    50] loss: 0.021\n",
      "[89,    50] loss: 0.018\n",
      "[90,    50] loss: 0.017\n",
      "[91,    50] loss: 0.017\n",
      "[92,    50] loss: 0.013\n",
      "[93,    50] loss: 0.011\n",
      "[94,    50] loss: 0.010\n",
      "[95,    50] loss: 0.010\n",
      "[96,    50] loss: 0.008\n",
      "[97,    50] loss: 0.008\n",
      "[98,    50] loss: 0.007\n",
      "[99,    50] loss: 0.006\n",
      "[100,    50] loss: 0.006\n",
      "[101,    50] loss: 0.005\n",
      "[102,    50] loss: 0.005\n",
      "[103,    50] loss: 0.004\n",
      "[104,    50] loss: 0.004\n",
      "[105,    50] loss: 0.004\n",
      "[106,    50] loss: 0.004\n",
      "[107,    50] loss: 0.003\n",
      "[108,    50] loss: 0.003\n",
      "[109,    50] loss: 0.003\n",
      "[110,    50] loss: 0.003\n",
      "[111,    50] loss: 0.003\n",
      "[112,    50] loss: 0.002\n",
      "[113,    50] loss: 0.002\n",
      "[114,    50] loss: 0.002\n",
      "[115,    50] loss: 0.002\n",
      "[116,    50] loss: 0.002\n",
      "[117,    50] loss: 0.002\n",
      "[118,    50] loss: 0.002\n",
      "[119,    50] loss: 0.002\n",
      "[120,    50] loss: 0.002\n",
      "[121,    50] loss: 0.001\n",
      "[122,    50] loss: 0.001\n",
      "[123,    50] loss: 0.001\n",
      "[124,    50] loss: 0.001\n",
      "[125,    50] loss: 0.001\n",
      "[126,    50] loss: 0.001\n",
      "[127,    50] loss: 0.001\n",
      "[128,    50] loss: 0.001\n",
      "[129,    50] loss: 0.001\n",
      "[130,    50] loss: 0.001\n",
      "[131,    50] loss: 0.001\n",
      "[132,    50] loss: 0.001\n",
      "[133,    50] loss: 0.001\n",
      "[134,    50] loss: 0.001\n",
      "[135,    50] loss: 0.001\n",
      "[136,    50] loss: 0.001\n",
      "[137,    50] loss: 0.001\n",
      "[138,    50] loss: 0.001\n",
      "[139,    50] loss: 0.001\n",
      "[140,    50] loss: 0.001\n",
      "[141,    50] loss: 0.001\n",
      "[142,    50] loss: 0.001\n",
      "[143,    50] loss: 0.001\n",
      "[144,    50] loss: 0.001\n",
      "[145,    50] loss: 0.001\n",
      "[146,    50] loss: 0.000\n",
      "[147,    50] loss: 0.000\n",
      "[148,    50] loss: 0.000\n",
      "[149,    50] loss: 0.000\n",
      "[150,    50] loss: 0.000\n",
      "[151,    50] loss: 0.000\n",
      "[152,    50] loss: 0.000\n",
      "[153,    50] loss: 0.000\n",
      "[154,    50] loss: 0.000\n",
      "[155,    50] loss: 0.000\n",
      "[156,    50] loss: 0.000\n",
      "[157,    50] loss: 0.000\n",
      "[158,    50] loss: 0.000\n",
      "[159,    50] loss: 0.000\n",
      "[160,    50] loss: 0.000\n",
      "[161,    50] loss: 0.000\n",
      "[162,    50] loss: 0.000\n",
      "[163,    50] loss: 0.000\n",
      "[164,    50] loss: 0.000\n",
      "[165,    50] loss: 0.000\n",
      "[166,    50] loss: 0.000\n",
      "[167,    50] loss: 0.000\n",
      "[168,    50] loss: 0.000\n",
      "[169,    50] loss: 0.000\n",
      "[170,    50] loss: 0.000\n",
      "[171,    50] loss: 0.000\n",
      "[172,    50] loss: 0.000\n",
      "[173,    50] loss: 0.000\n",
      "[174,    50] loss: 0.000\n",
      "[175,    50] loss: 0.000\n",
      "[176,    50] loss: 0.000\n",
      "[177,    50] loss: 0.000\n",
      "[178,    50] loss: 0.000\n",
      "[179,    50] loss: 0.000\n",
      "[180,    50] loss: 0.000\n",
      "[181,    50] loss: 0.000\n",
      "[182,    50] loss: 0.000\n",
      "[183,    50] loss: 0.000\n",
      "[184,    50] loss: 0.000\n",
      "[185,    50] loss: 0.000\n",
      "[186,    50] loss: 0.000\n",
      "[187,    50] loss: 0.000\n",
      "[188,    50] loss: 0.000\n",
      "[189,    50] loss: 0.000\n",
      "[190,    50] loss: 0.000\n",
      "[191,    50] loss: 0.000\n",
      "[192,    50] loss: 0.000\n",
      "[193,    50] loss: 0.000\n",
      "[194,    50] loss: 0.000\n",
      "[195,    50] loss: 0.000\n",
      "[196,    50] loss: 0.000\n",
      "[197,    50] loss: 0.000\n",
      "[198,    50] loss: 0.000\n",
      "[199,    50] loss: 0.000\n",
      "[200,    50] loss: 0.000\n",
      "Finished Training\n"
     ]
    }
   ],
   "source": [
    "for epoch in range(200):  # loop over the dataset multiple times\n",
    "\n",
    "    running_loss = 0.0\n",
    "    for i, data in enumerate(trainloader, 0):\n",
    "        # get the inputs; data is a list of [inputs, labels]\n",
    "        if device == \"cpu\":\n",
    "            inputs, labels = data\n",
    "        elif device == \"cuda:0\":\n",
    "            inputs, labels = data[0].to(device), data[1].to(device)\n",
    "        else:\n",
    "            print(\"DEVICE ERROR\")\n",
    "            break\n",
    "\n",
    "        # zero the parameter gradients\n",
    "        optimizer.zero_grad()\n",
    "\n",
    "        # forward + backward + optimize\n",
    "        outputs = net(inputs)\n",
    "        loss = criterion(outputs, labels)\n",
    "        loss.backward()\n",
    "        optimizer.step()\n",
    "\n",
    "        # print statistics\n",
    "        running_loss += loss.item()\n",
    "        if i % 50 == 49:    # print every 2000 mini-batches\n",
    "            print('[%d, %5d] loss: %.3f' %\n",
    "                  (epoch + 1, i + 1, running_loss / 49))\n",
    "            running_loss = 0.0\n",
    "print('Finished Training')"
   ]
  },
  {
   "cell_type": "code",
   "execution_count": 14,
   "metadata": {},
   "outputs": [
    {
     "name": "stdout",
     "output_type": "stream",
     "text": [
      "Accuracy of the network on the 10000 test images: 70 %\n"
     ]
    }
   ],
   "source": [
    "correct = 0\n",
    "total = 0\n",
    "with torch.no_grad():\n",
    "    for data in testloader:\n",
    "        if device == \"cpu\":\n",
    "            images, labels = data\n",
    "        elif device == \"cuda:0\":\n",
    "            images, labels = data[0].to(device), data[1].to(device)\n",
    "        else:\n",
    "            print(\"DEVICE ERROR\")\n",
    "            break\n",
    "        outputs = net(images)\n",
    "        _, predicted = torch.max(outputs.data, 1)\n",
    "        total += labels.size(0)\n",
    "        correct += (predicted == labels).sum().item()\n",
    "print('Accuracy of the network on the 10000 test images: %d %%' % (100 * correct / total))"
   ]
  },
  {
   "cell_type": "code",
   "execution_count": 15,
   "metadata": {},
   "outputs": [
    {
     "name": "stdout",
     "output_type": "stream",
     "text": [
      "Accuracy of plane : 68 %\n",
      "Accuracy of   car : 77 %\n",
      "Accuracy of  bird : 46 %\n",
      "Accuracy of   cat : 67 %\n",
      "Accuracy of  deer : 57 %\n",
      "Accuracy of   dog : 60 %\n",
      "Accuracy of  frog : 78 %\n",
      "Accuracy of horse : 66 %\n",
      "Accuracy of  ship : 70 %\n",
      "Accuracy of truck : 94 %\n"
     ]
    }
   ],
   "source": [
    "class_correct = list(0. for i in range(10))\n",
    "class_total = list(0. for i in range(10))\n",
    "with torch.no_grad():\n",
    "    for data in testloader:\n",
    "        if device == \"cpu\":\n",
    "            images, labels = data\n",
    "        elif device == \"cuda:0\":\n",
    "            images, labels = data[0].to(device), data[1].to(device)\n",
    "        else:\n",
    "            print(\"DEVICE ERROR\")\n",
    "            break\n",
    "        outputs = net(images)\n",
    "        _, predicted = torch.max(outputs, 1)\n",
    "        c = (predicted == labels).squeeze()\n",
    "        for i in range(4):\n",
    "            label = labels[i]\n",
    "            class_correct[label] += c[i].item()\n",
    "            class_total[label] += 1\n",
    "\n",
    "for i in range(10):\n",
    "    print('Accuracy of %5s : %2d %%' % (classes[i], 100 * class_correct[i] / class_total[i]))"
   ]
  },
  {
   "cell_type": "code",
   "execution_count": 16,
   "metadata": {},
   "outputs": [],
   "source": [
    "torch.save(net.state_dict(), \"./cifar_net.pth\")"
   ]
  },
  {
   "cell_type": "code",
   "execution_count": null,
   "metadata": {},
   "outputs": [],
   "source": []
  }
 ],
 "metadata": {
  "kernelspec": {
   "display_name": "Python 3",
   "language": "python",
   "name": "python3"
  },
  "language_info": {
   "codemirror_mode": {
    "name": "ipython",
    "version": 3
   },
   "file_extension": ".py",
   "mimetype": "text/x-python",
   "name": "python",
   "nbconvert_exporter": "python",
   "pygments_lexer": "ipython3",
   "version": "3.7.4"
  }
 },
 "nbformat": 4,
 "nbformat_minor": 2
}
